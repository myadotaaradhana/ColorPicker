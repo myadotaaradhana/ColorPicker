{
  "nbformat": 4,
  "nbformat_minor": 0,
  "metadata": {
    "colab": {
      "name": "Day 1.ipynb",
      "provenance": [],
      "authorship_tag": "ABX9TyMLVI+hv4kLUT51XgiqcOrc",
      "include_colab_link": true
    },
    "kernelspec": {
      "name": "python3",
      "display_name": "Python 3"
    },
    "language_info": {
      "name": "python"
    }
  },
  "cells": [
    {
      "cell_type": "markdown",
      "metadata": {
        "id": "view-in-github",
        "colab_type": "text"
      },
      "source": [
        "<a href=\"https://colab.research.google.com/github/myadotaaradhana/ColorPicker/blob/main/Day_1.ipynb\" target=\"_parent\"><img src=\"https://colab.research.google.com/assets/colab-badge.svg\" alt=\"Open In Colab\"/></a>"
      ]
    },
    {
      "cell_type": "code",
      "metadata": {
        "colab": {
          "base_uri": "https://localhost:8080/"
        },
        "id": "vORk80Rg1gEt",
        "outputId": "6378668f-59c5-4aca-f8c6-45dcb3841261"
      },
      "source": [
        "print(\"Remya Krishnan :)\")"
      ],
      "execution_count": 3,
      "outputs": [
        {
          "output_type": "stream",
          "name": "stdout",
          "text": [
            "Remya Krishnan :)\n"
          ]
        }
      ]
    },
    {
      "cell_type": "code",
      "metadata": {
        "colab": {
          "base_uri": "https://localhost:8080/"
        },
        "id": "MKVi9Q9548wd",
        "outputId": "ef408d40-0558-4c00-a001-bc28f95914ca"
      },
      "source": [
        "a=9\n",
        "print(a)"
      ],
      "execution_count": 6,
      "outputs": [
        {
          "output_type": "stream",
          "name": "stdout",
          "text": [
            "9\n"
          ]
        }
      ]
    },
    {
      "cell_type": "code",
      "metadata": {
        "colab": {
          "base_uri": "https://localhost:8080/"
        },
        "id": "bR0adOmL5Pap",
        "outputId": "6ed27b42-d6c0-4f51-82f5-405bb16d33a4"
      },
      "source": [
        "type(a)"
      ],
      "execution_count": 7,
      "outputs": [
        {
          "output_type": "execute_result",
          "data": {
            "text/plain": [
              "int"
            ]
          },
          "metadata": {},
          "execution_count": 7
        }
      ]
    },
    {
      "cell_type": "code",
      "metadata": {
        "colab": {
          "base_uri": "https://localhost:8080/"
        },
        "id": "O8eVIiaa5hLb",
        "outputId": "b0192523-d67b-4a65-ce19-7a21f903b05f"
      },
      "source": [
        "a=9.4\n",
        "print(a)"
      ],
      "execution_count": 8,
      "outputs": [
        {
          "output_type": "stream",
          "name": "stdout",
          "text": [
            "9.4\n"
          ]
        }
      ]
    },
    {
      "cell_type": "code",
      "metadata": {
        "colab": {
          "base_uri": "https://localhost:8080/"
        },
        "id": "AhQ8_5g-5mFU",
        "outputId": "94af6348-4601-4a55-b14f-16dc0d3f3ef4"
      },
      "source": [
        "type(a)"
      ],
      "execution_count": 9,
      "outputs": [
        {
          "output_type": "execute_result",
          "data": {
            "text/plain": [
              "float"
            ]
          },
          "metadata": {},
          "execution_count": 9
        }
      ]
    },
    {
      "cell_type": "code",
      "metadata": {
        "colab": {
          "base_uri": "https://localhost:8080/"
        },
        "id": "kqD9UowG5r_L",
        "outputId": "80fbabd3-4ff6-4711-c328-b0cbcc95879b"
      },
      "source": [
        "print(type(a))"
      ],
      "execution_count": 10,
      "outputs": [
        {
          "output_type": "stream",
          "name": "stdout",
          "text": [
            "<class 'float'>\n"
          ]
        }
      ]
    },
    {
      "cell_type": "code",
      "metadata": {
        "colab": {
          "base_uri": "https://localhost:8080/"
        },
        "id": "CFLsQFUf6P3b",
        "outputId": "d0d77375-4db5-4312-dcfa-282e9661ef08"
      },
      "source": [
        "type(True)"
      ],
      "execution_count": 11,
      "outputs": [
        {
          "output_type": "execute_result",
          "data": {
            "text/plain": [
              "bool"
            ]
          },
          "metadata": {},
          "execution_count": 11
        }
      ]
    },
    {
      "cell_type": "code",
      "metadata": {
        "colab": {
          "base_uri": "https://localhost:8080/"
        },
        "id": "B8RkQW0a6rxW",
        "outputId": "b500bc10-d369-44d1-faa4-55e170a7fb5b"
      },
      "source": [
        "type(4.5)"
      ],
      "execution_count": 12,
      "outputs": [
        {
          "output_type": "execute_result",
          "data": {
            "text/plain": [
              "float"
            ]
          },
          "metadata": {},
          "execution_count": 12
        }
      ]
    },
    {
      "cell_type": "code",
      "metadata": {
        "colab": {
          "base_uri": "https://localhost:8080/"
        },
        "id": "dBSG3bhT6wTU",
        "outputId": "e1cb540c-52db-451f-cfe5-a03c39f6aeeb"
      },
      "source": [
        "type(\"Hello World\")"
      ],
      "execution_count": 13,
      "outputs": [
        {
          "output_type": "execute_result",
          "data": {
            "text/plain": [
              "str"
            ]
          },
          "metadata": {},
          "execution_count": 13
        }
      ]
    },
    {
      "cell_type": "code",
      "metadata": {
        "id": "s8Xqeh6W60jy"
      },
      "source": [
        "a='Remya Krishnan'"
      ],
      "execution_count": 14,
      "outputs": []
    },
    {
      "cell_type": "code",
      "metadata": {
        "colab": {
          "base_uri": "https://localhost:8080/",
          "height": 38
        },
        "id": "gn71YfU568gi",
        "outputId": "f8a65097-378f-4986-85f8-51b05fe68aa8"
      },
      "source": [
        "a"
      ],
      "execution_count": 15,
      "outputs": [
        {
          "output_type": "execute_result",
          "data": {
            "application/vnd.google.colaboratory.intrinsic+json": {
              "type": "string"
            },
            "text/plain": [
              "'Remya Krishnan'"
            ]
          },
          "metadata": {},
          "execution_count": 15
        }
      ]
    },
    {
      "cell_type": "code",
      "metadata": {
        "colab": {
          "base_uri": "https://localhost:8080/"
        },
        "id": "cIPMwUvC7lfq",
        "outputId": "4bd87eac-0064-4f12-af85-b63a70686aca"
      },
      "source": [
        "x, y, z=\"Orange\",\"Banana\",\"Cherry\"\n",
        "print(x)\n",
        "print(y)\n",
        "print(z)"
      ],
      "execution_count": 16,
      "outputs": [
        {
          "output_type": "stream",
          "name": "stdout",
          "text": [
            "Orange\n",
            "Banana\n",
            "Cherry\n"
          ]
        }
      ]
    },
    {
      "cell_type": "code",
      "metadata": {
        "id": "VuvW_LKZ8s2R"
      },
      "source": [
        "##Mathematical operation with Variable assignment\n",
        "a=10\n",
        "b=20"
      ],
      "execution_count": 17,
      "outputs": []
    },
    {
      "cell_type": "code",
      "metadata": {
        "colab": {
          "base_uri": "https://localhost:8080/"
        },
        "id": "nkGIeKq19Kky",
        "outputId": "bac1b960-57fd-4779-ba61-08b4c7e3bf85"
      },
      "source": [
        "print(a+b)\n",
        "print(a-b)\n",
        "print(a*b)\n",
        "print(a/b)\n",
        "print(a%b)\n",
        "print(a//b)\n",
        "print(a**b)"
      ],
      "execution_count": 18,
      "outputs": [
        {
          "output_type": "stream",
          "name": "stdout",
          "text": [
            "30\n",
            "-10\n",
            "200\n",
            "0.5\n",
            "10\n",
            "0\n",
            "100000000000000000000\n"
          ]
        }
      ]
    },
    {
      "cell_type": "code",
      "metadata": {
        "colab": {
          "base_uri": "https://localhost:8080/"
        },
        "id": "gc2NJz9o-FFj",
        "outputId": "441e29b0-b8b1-426b-99f0-359357c503b2"
      },
      "source": [
        "p=9\n",
        "p+=5\n",
        "print(p)"
      ],
      "execution_count": 19,
      "outputs": [
        {
          "output_type": "stream",
          "name": "stdout",
          "text": [
            "14\n"
          ]
        }
      ]
    },
    {
      "cell_type": "code",
      "metadata": {
        "colab": {
          "base_uri": "https://localhost:8080/"
        },
        "id": "afYiYUzR-Ndo",
        "outputId": "36f519b1-90ee-4a66-8278-4591b92940b0"
      },
      "source": [
        "p-=3\n",
        "print(p)"
      ],
      "execution_count": 20,
      "outputs": [
        {
          "output_type": "stream",
          "name": "stdout",
          "text": [
            "11\n"
          ]
        }
      ]
    },
    {
      "cell_type": "code",
      "metadata": {
        "colab": {
          "base_uri": "https://localhost:8080/"
        },
        "id": "Xz2k02Z6-TMK",
        "outputId": "8c98b488-7b0b-4dbf-9bf9-2d7b01737b94"
      },
      "source": [
        "p*=3\n",
        "print(p)"
      ],
      "execution_count": 21,
      "outputs": [
        {
          "output_type": "stream",
          "name": "stdout",
          "text": [
            "33\n"
          ]
        }
      ]
    },
    {
      "cell_type": "code",
      "metadata": {
        "colab": {
          "base_uri": "https://localhost:8080/"
        },
        "id": "DXsdRFPT-Z_v",
        "outputId": "78eed87a-19fd-40c6-ef5a-95e550e527a9"
      },
      "source": [
        "p/=11\n",
        "print(p)"
      ],
      "execution_count": 22,
      "outputs": [
        {
          "output_type": "stream",
          "name": "stdout",
          "text": [
            "3.0\n"
          ]
        }
      ]
    },
    {
      "cell_type": "code",
      "metadata": {
        "colab": {
          "base_uri": "https://localhost:8080/"
        },
        "id": "urKxsZXH-dMo",
        "outputId": "00525cb2-3c47-4bce-f3df-896b616b08ae"
      },
      "source": [
        "p**=2\n",
        "print(p)"
      ],
      "execution_count": 23,
      "outputs": [
        {
          "output_type": "stream",
          "name": "stdout",
          "text": [
            "9.0\n"
          ]
        }
      ]
    },
    {
      "cell_type": "code",
      "metadata": {
        "colab": {
          "base_uri": "https://localhost:8080/"
        },
        "id": "slzbdj7b-t1A",
        "outputId": "182d2689-6cd8-403f-dcc6-2d05bc331d51"
      },
      "source": [
        "p//=2\n",
        "print(p)"
      ],
      "execution_count": 24,
      "outputs": [
        {
          "output_type": "stream",
          "name": "stdout",
          "text": [
            "4.0\n"
          ]
        }
      ]
    },
    {
      "cell_type": "code",
      "metadata": {
        "colab": {
          "base_uri": "https://localhost:8080/"
        },
        "id": "3jbynOmk-0Mc",
        "outputId": "a5d34715-356c-47a9-9879-7532373578e7"
      },
      "source": [
        "p%=5\n",
        "print(p)"
      ],
      "execution_count": 25,
      "outputs": [
        {
          "output_type": "stream",
          "name": "stdout",
          "text": [
            "4.0\n"
          ]
        }
      ]
    },
    {
      "cell_type": "code",
      "metadata": {
        "colab": {
          "base_uri": "https://localhost:8080/"
        },
        "id": "5Gw5Hh2t-7Rr",
        "outputId": "75fb64d2-3d72-4084-e2f6-d713dcb2ab08"
      },
      "source": [
        "x=9\n",
        "y=10\n",
        "print(x==y)"
      ],
      "execution_count": 26,
      "outputs": [
        {
          "output_type": "stream",
          "name": "stdout",
          "text": [
            "False\n"
          ]
        }
      ]
    },
    {
      "cell_type": "code",
      "metadata": {
        "colab": {
          "base_uri": "https://localhost:8080/"
        },
        "id": "xOEMkO6c_O3z",
        "outputId": "083b3fdf-6348-4429-83d8-a236ca716363"
      },
      "source": [
        "print(x!=y)"
      ],
      "execution_count": 27,
      "outputs": [
        {
          "output_type": "stream",
          "name": "stdout",
          "text": [
            "True\n"
          ]
        }
      ]
    },
    {
      "cell_type": "code",
      "metadata": {
        "colab": {
          "base_uri": "https://localhost:8080/"
        },
        "id": "QhvpSvue_Tkc",
        "outputId": "b18c32be-165a-4c8b-ff34-b78e821cb440"
      },
      "source": [
        "print(x>y)"
      ],
      "execution_count": 28,
      "outputs": [
        {
          "output_type": "stream",
          "name": "stdout",
          "text": [
            "False\n"
          ]
        }
      ]
    },
    {
      "cell_type": "code",
      "metadata": {
        "colab": {
          "base_uri": "https://localhost:8080/"
        },
        "id": "jmfvO4WF_YZY",
        "outputId": "23eb1430-f15d-4b9f-a9d3-0761594e322f"
      },
      "source": [
        "print(x<y)"
      ],
      "execution_count": 29,
      "outputs": [
        {
          "output_type": "stream",
          "name": "stdout",
          "text": [
            "True\n"
          ]
        }
      ]
    },
    {
      "cell_type": "code",
      "metadata": {
        "id": "jAQErkD5_6wC"
      },
      "source": [
        "x = [\"apple\" , \"banana\"]\n",
        "y = [\"apple\" , \"banana\" , \"grapes\"]\n",
        "z = x"
      ],
      "execution_count": 33,
      "outputs": []
    },
    {
      "cell_type": "code",
      "metadata": {
        "colab": {
          "base_uri": "https://localhost:8080/"
        },
        "id": "1OHaUlNYAegf",
        "outputId": "a12d0523-92be-4b57-d6ac-c9d796811bc8"
      },
      "source": [
        "print(x is z)"
      ],
      "execution_count": 32,
      "outputs": [
        {
          "output_type": "stream",
          "name": "stdout",
          "text": [
            "True\n"
          ]
        }
      ]
    },
    {
      "cell_type": "code",
      "metadata": {
        "colab": {
          "base_uri": "https://localhost:8080/"
        },
        "id": "8wbKXHnGA3uQ",
        "outputId": "99cf7d48-f087-4788-852b-df4b8d35e385"
      },
      "source": [
        "print(x is y)"
      ],
      "execution_count": 34,
      "outputs": [
        {
          "output_type": "stream",
          "name": "stdout",
          "text": [
            "False\n"
          ]
        }
      ]
    },
    {
      "cell_type": "code",
      "metadata": {
        "colab": {
          "base_uri": "https://localhost:8080/"
        },
        "id": "ftCql8K5A6pQ",
        "outputId": "c089237d-acda-4b88-eeca-618b2cb88104"
      },
      "source": [
        "print(x is not z)"
      ],
      "execution_count": 35,
      "outputs": [
        {
          "output_type": "stream",
          "name": "stdout",
          "text": [
            "False\n"
          ]
        }
      ]
    },
    {
      "cell_type": "code",
      "metadata": {
        "colab": {
          "base_uri": "https://localhost:8080/"
        },
        "id": "kTxiZYnWBehv",
        "outputId": "877ae404-19e6-464e-907e-c43e70562405"
      },
      "source": [
        "print(y is z)"
      ],
      "execution_count": 36,
      "outputs": [
        {
          "output_type": "stream",
          "name": "stdout",
          "text": [
            "False\n"
          ]
        }
      ]
    },
    {
      "cell_type": "code",
      "metadata": {
        "colab": {
          "base_uri": "https://localhost:8080/"
        },
        "id": "araEI4J1Ci9j",
        "outputId": "99b208fd-da5c-408c-835c-87383a553ff6"
      },
      "source": [
        "x = [\"apple\" , \"banana\"]\n",
        "print( \"banana\" in x)"
      ],
      "execution_count": 37,
      "outputs": [
        {
          "output_type": "stream",
          "name": "stdout",
          "text": [
            "True\n"
          ]
        }
      ]
    },
    {
      "cell_type": "code",
      "metadata": {
        "colab": {
          "base_uri": "https://localhost:8080/"
        },
        "id": "DuOfJN4MCwUD",
        "outputId": "ddf508c0-fba9-48be-b8c4-3592c36ccd1d"
      },
      "source": [
        "print(\"apple\" in x)"
      ],
      "execution_count": 38,
      "outputs": [
        {
          "output_type": "stream",
          "name": "stdout",
          "text": [
            "True\n"
          ]
        }
      ]
    },
    {
      "cell_type": "code",
      "metadata": {
        "colab": {
          "base_uri": "https://localhost:8080/"
        },
        "id": "umcJZUrhC0HG",
        "outputId": "340f035c-15ac-4b18-c15c-e09abeaea64b"
      },
      "source": [
        "print(\"grapes\" not in x)"
      ],
      "execution_count": 39,
      "outputs": [
        {
          "output_type": "stream",
          "name": "stdout",
          "text": [
            "True\n"
          ]
        }
      ]
    },
    {
      "cell_type": "code",
      "metadata": {
        "colab": {
          "base_uri": "https://localhost:8080/"
        },
        "id": "06u8XHQ8C6jI",
        "outputId": "07a49d9e-401d-4b93-df6a-842b18addb0f"
      },
      "source": [
        "print(\"banana\" not in x)"
      ],
      "execution_count": 40,
      "outputs": [
        {
          "output_type": "stream",
          "name": "stdout",
          "text": [
            "False\n"
          ]
        }
      ]
    },
    {
      "cell_type": "code",
      "metadata": {
        "colab": {
          "base_uri": "https://localhost:8080/"
        },
        "id": "_aC_-xRVC-Bl",
        "outputId": "591ecce7-c3a9-41f9-dd44-01f1d9fdae94"
      },
      "source": [
        "True and True"
      ],
      "execution_count": 41,
      "outputs": [
        {
          "output_type": "execute_result",
          "data": {
            "text/plain": [
              "True"
            ]
          },
          "metadata": {},
          "execution_count": 41
        }
      ]
    },
    {
      "cell_type": "code",
      "metadata": {
        "colab": {
          "base_uri": "https://localhost:8080/"
        },
        "id": "dyqoRlHTDV2O",
        "outputId": "58bd91c1-b2dd-40f3-9b78-4568f2ce51ae"
      },
      "source": [
        "True and False"
      ],
      "execution_count": 42,
      "outputs": [
        {
          "output_type": "execute_result",
          "data": {
            "text/plain": [
              "False"
            ]
          },
          "metadata": {},
          "execution_count": 42
        }
      ]
    },
    {
      "cell_type": "code",
      "metadata": {
        "colab": {
          "base_uri": "https://localhost:8080/"
        },
        "id": "GIVAFj3-DZYM",
        "outputId": "fe6d8ad7-b8aa-4499-9f15-43b1fc3c9056"
      },
      "source": [
        "False and False"
      ],
      "execution_count": 43,
      "outputs": [
        {
          "output_type": "execute_result",
          "data": {
            "text/plain": [
              "False"
            ]
          },
          "metadata": {},
          "execution_count": 43
        }
      ]
    },
    {
      "cell_type": "code",
      "metadata": {
        "colab": {
          "base_uri": "https://localhost:8080/"
        },
        "id": "tNxP5zrfDdgJ",
        "outputId": "3b497f35-a88d-40d3-fa5b-a583da328b33"
      },
      "source": [
        "True or True"
      ],
      "execution_count": 44,
      "outputs": [
        {
          "output_type": "execute_result",
          "data": {
            "text/plain": [
              "True"
            ]
          },
          "metadata": {},
          "execution_count": 44
        }
      ]
    },
    {
      "cell_type": "code",
      "metadata": {
        "colab": {
          "base_uri": "https://localhost:8080/"
        },
        "id": "XA7GQ0jaDpsC",
        "outputId": "8cfcf148-4ce7-426a-a7d3-4af3db9488d8"
      },
      "source": [
        "True or False"
      ],
      "execution_count": 45,
      "outputs": [
        {
          "output_type": "execute_result",
          "data": {
            "text/plain": [
              "True"
            ]
          },
          "metadata": {},
          "execution_count": 45
        }
      ]
    },
    {
      "cell_type": "code",
      "metadata": {
        "colab": {
          "base_uri": "https://localhost:8080/"
        },
        "id": "mB2kjTJEDsXI",
        "outputId": "e537d0da-1258-42b1-990d-c3cb40dab5f6"
      },
      "source": [
        "False or False"
      ],
      "execution_count": 46,
      "outputs": [
        {
          "output_type": "execute_result",
          "data": {
            "text/plain": [
              "False"
            ]
          },
          "metadata": {},
          "execution_count": 46
        }
      ]
    },
    {
      "cell_type": "code",
      "metadata": {
        "id": "pf5BkgcrD1kg"
      },
      "source": [
        "first_name='Remya'\n",
        "last_name='Krishnan'"
      ],
      "execution_count": 48,
      "outputs": []
    },
    {
      "cell_type": "code",
      "metadata": {
        "colab": {
          "base_uri": "https://localhost:8080/"
        },
        "id": "G04ZouRNECoq",
        "outputId": "8aa6c181-bec5-4e08-eb66-341c79684822"
      },
      "source": [
        "print(\"My first name is {} and last name is {}.\".format(first_name,last_name))"
      ],
      "execution_count": 50,
      "outputs": [
        {
          "output_type": "stream",
          "name": "stdout",
          "text": [
            "My first name is Remya and last name is Krishnan.\n"
          ]
        }
      ]
    },
    {
      "cell_type": "code",
      "metadata": {
        "id": "5B2N82CPEWpg"
      },
      "source": [
        "a=19"
      ],
      "execution_count": 51,
      "outputs": []
    },
    {
      "cell_type": "code",
      "metadata": {
        "colab": {
          "base_uri": "https://localhost:8080/"
        },
        "id": "HkwbisH-EaYP",
        "outputId": "d9bf0ba4-8997-41fe-c51f-e4eb0021800c"
      },
      "source": [
        "print(\"I am {} years old.\".format(a))"
      ],
      "execution_count": 52,
      "outputs": [
        {
          "output_type": "stream",
          "name": "stdout",
          "text": [
            "I am 19 years old.\n"
          ]
        }
      ]
    },
    {
      "cell_type": "code",
      "metadata": {
        "colab": {
          "base_uri": "https://localhost:8080/"
        },
        "id": "KcHwqhIBEyyn",
        "outputId": "653e308f-a5f3-4638-e2fb-fa8c9c259581"
      },
      "source": [
        "len(\"Krishnan\")"
      ],
      "execution_count": 53,
      "outputs": [
        {
          "output_type": "execute_result",
          "data": {
            "text/plain": [
              "8"
            ]
          },
          "metadata": {},
          "execution_count": 53
        }
      ]
    },
    {
      "cell_type": "code",
      "metadata": {
        "colab": {
          "base_uri": "https://localhost:8080/"
        },
        "id": "p49IddNsE8Kz",
        "outputId": "2198a9f7-d84f-4347-accc-fb8f6e3b81eb"
      },
      "source": [
        "x=\"awesome\"\n",
        "print(\"Python is \" +x)"
      ],
      "execution_count": 58,
      "outputs": [
        {
          "output_type": "stream",
          "name": "stdout",
          "text": [
            "Python is awesome\n"
          ]
        }
      ]
    },
    {
      "cell_type": "code",
      "metadata": {
        "colab": {
          "base_uri": "https://localhost:8080/"
        },
        "id": "Bl-GYEcqFVIA",
        "outputId": "99709fdb-5ecd-4b71-e712-0a52c434be32"
      },
      "source": [
        "x= \"Shreya\"\n",
        "y=\" Krishnan\"\n",
        "z=x+y\n",
        "print(z)"
      ],
      "execution_count": 60,
      "outputs": [
        {
          "output_type": "stream",
          "name": "stdout",
          "text": [
            "Shreya Krishnan\n"
          ]
        }
      ]
    },
    {
      "cell_type": "code",
      "metadata": {
        "colab": {
          "base_uri": "https://localhost:8080/"
        },
        "id": "7NlWHTyUFn_H",
        "outputId": "ff65e44e-fbf1-469a-ff69-fb5a4f0216cf"
      },
      "source": [
        "num = input (\"Enter number : \")\n",
        "print(num)\n",
        "name1 = input(\"Enter Name: \")\n",
        "print(name1)"
      ],
      "execution_count": 61,
      "outputs": [
        {
          "output_type": "stream",
          "name": "stdout",
          "text": [
            "Enter number : 24\n",
            "24\n",
            "Enter Name: Remya Krishnan\n",
            "Remya Krishnan\n"
          ]
        }
      ]
    },
    {
      "cell_type": "code",
      "metadata": {
        "colab": {
          "base_uri": "https://localhost:8080/"
        },
        "id": "09jZBdmJGY2W",
        "outputId": "09b96e9b-4443-45f2-db42-ed3babf91bfe"
      },
      "source": [
        "num1= int(input(\"Enter first number: \"))\n",
        "print(num1)\n",
        "num2= int(input(\"Enter second number: \"))\n",
        "print(num2)\n",
        "print(type(num1))\n",
        "print(num1+num2)"
      ],
      "execution_count": 64,
      "outputs": [
        {
          "output_type": "stream",
          "name": "stdout",
          "text": [
            "Enter first number: 10\n",
            "10\n",
            "Enter second number: 20\n",
            "20\n",
            "<class 'int'>\n",
            "30\n"
          ]
        }
      ]
    },
    {
      "cell_type": "code",
      "metadata": {
        "id": "O1fbIvEaLgN9"
      },
      "source": [
        "i=9"
      ],
      "execution_count": 66,
      "outputs": []
    },
    {
      "cell_type": "code",
      "metadata": {
        "colab": {
          "base_uri": "https://localhost:8080/"
        },
        "id": "8A49DvvnND1L",
        "outputId": "08e86172-8896-4ca2-fee9-182a21d43a72"
      },
      "source": [
        "if(i>10):\n",
        "  print(\"true\")\n",
        "else:\n",
        "  print(\"false\")"
      ],
      "execution_count": 73,
      "outputs": [
        {
          "output_type": "stream",
          "name": "stdout",
          "text": [
            "false\n"
          ]
        }
      ]
    },
    {
      "cell_type": "code",
      "metadata": {
        "colab": {
          "base_uri": "https://localhost:8080/"
        },
        "id": "Ky7Kl_YyODz4",
        "outputId": "701a5e5f-f9b8-4be8-9bf6-d26bc6389c25"
      },
      "source": [
        "i=1\n",
        "if(i<3):\n",
        "  print('less than 3')\n",
        "  if(i<2):\n",
        "    print('less than 2')\n",
        "elif i<5:\n",
        "      print('less than 5')\n",
        "else:\n",
        "        print('5 or more')"
      ],
      "execution_count": 79,
      "outputs": [
        {
          "output_type": "stream",
          "name": "stdout",
          "text": [
            "less than 3\n",
            "less than 2\n"
          ]
        }
      ]
    },
    {
      "cell_type": "code",
      "metadata": {
        "colab": {
          "base_uri": "https://localhost:8080/"
        },
        "id": "8V7aYY2FPSc-",
        "outputId": "1174686f-ae1e-4953-c85d-ebba63bf7d62"
      },
      "source": [
        "a=int(input(\"Enter the first number: \"))\n",
        "b=int(input(\"Enter the second number: \"))\n",
        "c=int(input(\"Enter the third number: \"))\n",
        "if a>c and a>c:\n",
        "  print(\"Biggest number is {}\".format(a))\n",
        "elif b>c and b>a:\n",
        "    print(\"Biggest number is {}\".format(b))\n",
        "else:\n",
        "  print(\"Biggest number is {}\".format(c))"
      ],
      "execution_count": 78,
      "outputs": [
        {
          "output_type": "stream",
          "name": "stdout",
          "text": [
            "Enter the first number: 2\n",
            "Enter the second number: 3\n",
            "Enter the third number: 4\n",
            "Biggest number is 4\n"
          ]
        }
      ]
    },
    {
      "cell_type": "code",
      "metadata": {
        "colab": {
          "base_uri": "https://localhost:8080/"
        },
        "id": "dh0BDSoyR0xn",
        "outputId": "0b8725c3-f559-4b10-d0e6-fa7ac706dff1"
      },
      "source": [
        "i = 1\n",
        "while i < 6:\n",
        "  print(i)\n",
        "  i += 1"
      ],
      "execution_count": 82,
      "outputs": [
        {
          "output_type": "stream",
          "name": "stdout",
          "text": [
            "1\n",
            "2\n",
            "3\n",
            "4\n",
            "5\n"
          ]
        }
      ]
    },
    {
      "cell_type": "code",
      "metadata": {
        "colab": {
          "base_uri": "https://localhost:8080/"
        },
        "id": "YPcaiaHgR3DI",
        "outputId": "3f3d2ecc-6c24-437b-98c4-ffb5bda246fa"
      },
      "source": [
        "i = 1\n",
        "while i < 6:\n",
        "  i += 1\n",
        "  print(i)\n"
      ],
      "execution_count": 83,
      "outputs": [
        {
          "output_type": "stream",
          "name": "stdout",
          "text": [
            "2\n",
            "3\n",
            "4\n",
            "5\n",
            "6\n"
          ]
        }
      ]
    },
    {
      "cell_type": "code",
      "metadata": {
        "colab": {
          "base_uri": "https://localhost:8080/"
        },
        "id": "EuN9CcVJR6vH",
        "outputId": "346d7b9e-7e15-4454-8e66-6697ae934948"
      },
      "source": [
        "#sum of first 10 natural numbers\n",
        "n=10\n",
        "sum=0\n",
        "i=1\n",
        "\n",
        "while i<=n:\n",
        "   sum=sum+i\n",
        "   i=i+1\n",
        "print(\"The sum is \",sum)"
      ],
      "execution_count": 86,
      "outputs": [
        {
          "output_type": "stream",
          "name": "stdout",
          "text": [
            "The sum is  55\n"
          ]
        }
      ]
    },
    {
      "cell_type": "code",
      "metadata": {
        "colab": {
          "base_uri": "https://localhost:8080/"
        },
        "id": "7Xeaar2JS0pe",
        "outputId": "458e3fe7-8225-4906-dd96-9b8b14c50abf"
      },
      "source": [
        "i=1\n",
        "while i<6:\n",
        "  print(i)\n",
        "  if i==3:\n",
        "    break\n",
        "  i+=1"
      ],
      "execution_count": 3,
      "outputs": [
        {
          "output_type": "stream",
          "name": "stdout",
          "text": [
            "1\n",
            "2\n",
            "3\n"
          ]
        }
      ]
    },
    {
      "cell_type": "code",
      "metadata": {
        "colab": {
          "base_uri": "https://localhost:8080/"
        },
        "id": "iu3U8zhIUyam",
        "outputId": "04bda082-ad85-432b-e977-e354ff1202a5"
      },
      "source": [
        "i=0\n",
        "while i<6:\n",
        "  i+=1\n",
        "  if i==3:\n",
        "    continue\n",
        "  print(i)"
      ],
      "execution_count": 4,
      "outputs": [
        {
          "output_type": "stream",
          "name": "stdout",
          "text": [
            "1\n",
            "2\n",
            "4\n",
            "5\n",
            "6\n"
          ]
        }
      ]
    },
    {
      "cell_type": "code",
      "metadata": {
        "colab": {
          "base_uri": "https://localhost:8080/"
        },
        "id": "mrrATTnyVXCd",
        "outputId": "955e2d47-3732-4ec1-faba-e503bb5c9dfb"
      },
      "source": [
        "k=1\n",
        "while k<16:\n",
        "  print(k)\n",
        "  k+=1\n",
        "else:\n",
        "  print(\"k is not less than 16\")"
      ],
      "execution_count": 5,
      "outputs": [
        {
          "output_type": "stream",
          "name": "stdout",
          "text": [
            "1\n",
            "2\n",
            "3\n",
            "4\n",
            "5\n",
            "6\n",
            "7\n",
            "8\n",
            "9\n",
            "10\n",
            "11\n",
            "12\n",
            "13\n",
            "14\n",
            "15\n",
            "k is not less than 16\n"
          ]
        }
      ]
    },
    {
      "cell_type": "code",
      "metadata": {
        "colab": {
          "base_uri": "https://localhost:8080/"
        },
        "id": "FWendtUmVv85",
        "outputId": "4abad1ee-fc17-4bc8-d7a1-f3b146b459ec"
      },
      "source": [
        "Days= [\"Monday\",\"Tuesday\",\"Wednesday\"]\n",
        "for x in Days:\n",
        "  print(x)"
      ],
      "execution_count": 6,
      "outputs": [
        {
          "output_type": "stream",
          "name": "stdout",
          "text": [
            "Monday\n",
            "Tuesday\n",
            "Wednesday\n"
          ]
        }
      ]
    },
    {
      "cell_type": "code",
      "metadata": {
        "colab": {
          "base_uri": "https://localhost:8080/"
        },
        "id": "WGMvRKJnWP5F",
        "outputId": "75081835-af1f-4458-cd92-a6a26c6a1f3a"
      },
      "source": [
        "for i in range(5):\n",
        "  print(i)"
      ],
      "execution_count": 7,
      "outputs": [
        {
          "output_type": "stream",
          "name": "stdout",
          "text": [
            "0\n",
            "1\n",
            "2\n",
            "3\n",
            "4\n"
          ]
        }
      ]
    },
    {
      "cell_type": "code",
      "metadata": {
        "colab": {
          "base_uri": "https://localhost:8080/"
        },
        "id": "-yXcdn37WhkO",
        "outputId": "b95bc09f-729a-41dc-a7d8-66c7f2f44b9f"
      },
      "source": [
        "for x in range (2,30,3):\n",
        "  print(x)"
      ],
      "execution_count": 8,
      "outputs": [
        {
          "output_type": "stream",
          "name": "stdout",
          "text": [
            "2\n",
            "5\n",
            "8\n",
            "11\n",
            "14\n",
            "17\n",
            "20\n",
            "23\n",
            "26\n",
            "29\n"
          ]
        }
      ]
    },
    {
      "cell_type": "code",
      "metadata": {
        "colab": {
          "base_uri": "https://localhost:8080/"
        },
        "id": "RLpCSVfgWqs9",
        "outputId": "e7c2eff5-159c-4bf9-a270-ff64b2a057b4"
      },
      "source": [
        "for x in range(16):\n",
        "  print(x)\n",
        "else:\n",
        "  print(\"Finally Finished!\")"
      ],
      "execution_count": 9,
      "outputs": [
        {
          "output_type": "stream",
          "name": "stdout",
          "text": [
            "0\n",
            "1\n",
            "2\n",
            "3\n",
            "4\n",
            "5\n",
            "6\n",
            "7\n",
            "8\n",
            "9\n",
            "10\n",
            "11\n",
            "12\n",
            "13\n",
            "14\n",
            "15\n",
            "Finally Finished!\n"
          ]
        }
      ]
    }
  ]
}